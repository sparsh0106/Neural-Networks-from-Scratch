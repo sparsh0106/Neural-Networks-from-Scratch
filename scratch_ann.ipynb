{
 "cells": [
  {
   "metadata": {},
   "cell_type": "markdown",
   "source": "### Implementation of an Artificial Neural Network",
   "id": "80e238adcd0222cb"
  },
  {
   "cell_type": "code",
   "id": "initial_id",
   "metadata": {
    "collapsed": true,
    "ExecuteTime": {
     "end_time": "2025-10-16T13:04:04.285932Z",
     "start_time": "2025-10-16T13:04:04.284418Z"
    }
   },
   "source": [
    "import pandas as pd\n",
    "import numpy as np"
   ],
   "outputs": [],
   "execution_count": 1
  },
  {
   "metadata": {
    "ExecuteTime": {
     "end_time": "2025-10-16T13:04:04.305618Z",
     "start_time": "2025-10-16T13:04:04.291734Z"
    }
   },
   "cell_type": "code",
   "source": [
    "df = pd.read_csv('Iris.csv')\n",
    "df = df.drop(columns=['Id'])\n",
    "\n",
    "y = df['Species']\n",
    "y = pd.DataFrame(y)\n",
    "X = df.drop(columns=['Species'])"
   ],
   "id": "1976a24245309836",
   "outputs": [],
   "execution_count": 2
  },
  {
   "metadata": {
    "ExecuteTime": {
     "end_time": "2025-10-16T13:04:04.371001Z",
     "start_time": "2025-10-16T13:04:04.337170Z"
    }
   },
   "cell_type": "code",
   "source": [
    "from sklearn.preprocessing import StandardScaler, OneHotEncoder\n",
    "scaler = StandardScaler()\n",
    "encoder = OneHotEncoder(sparse_output=False)\n",
    "X_new = scaler.fit_transform(X)\n",
    "y_new = encoder.fit_transform(y)"
   ],
   "id": "f90689e66356cf80",
   "outputs": [],
   "execution_count": 3
  },
  {
   "metadata": {
    "ExecuteTime": {
     "end_time": "2025-10-16T13:04:04.400972Z",
     "start_time": "2025-10-16T13:04:04.384755Z"
    }
   },
   "cell_type": "code",
   "source": [
    "from sklearn.model_selection import train_test_split\n",
    "X_train, X_test, y_train, y_test = train_test_split(X_new, y_new, test_size=0.15)\n",
    "\n",
    "print(X_train.shape, y_train.shape)\n",
    "print(X_test.shape, y_test.shape)"
   ],
   "id": "eb4a37523fc1cb1e",
   "outputs": [
    {
     "name": "stdout",
     "output_type": "stream",
     "text": [
      "(127, 4) (127, 3)\n",
      "(23, 4) (23, 3)\n"
     ]
    }
   ],
   "execution_count": 4
  },
  {
   "metadata": {
    "ExecuteTime": {
     "end_time": "2025-10-16T13:04:04.437564Z",
     "start_time": "2025-10-16T13:04:04.433639Z"
    }
   },
   "cell_type": "code",
   "source": [
    "def sigmoid(z):\n",
    "    return 1 / (1 + np.exp(-z))\n",
    "\n",
    "def sigmoid_derivative(z):\n",
    "    return sigmoid(z) * (1 - sigmoid(z))\n",
    "\n",
    "def mse(y_true, y_pred):\n",
    "    return np.sum((y_true - y_pred)**2)/2\n",
    "\n",
    "def relu(z):\n",
    "    return max(0, z)\n",
    "\n",
    "def softmax(z):\n",
    "    return np.exp(z) / np.sum(np.exp(z))\n",
    "\n",
    "def relu_derivative(z):\n",
    "    return (z > 0).astype(int)\n",
    "\n",
    "def mse_derivative(y_true, y_pred):\n",
    "    return -(y_true - y_pred)\n",
    "\n",
    "def cross_entropy_loss(y_true, y_pred):\n",
    "    return -np.sum(y_true * np.log(y_pred + 1e-9))\n",
    "\n",
    "# derivative for backprop\n",
    "def cross_entropy_derivative(y_true, y_pred):\n",
    "    return (y_pred - y_true)\n",
    "\n",
    "def softmax_jacobian(s):\n",
    "    s = s.reshape(-1, 1)\n",
    "    J = np.diagflat(s) - np.dot(s, s.T)\n",
    "    return J\n"
   ],
   "id": "18925bdef2a0d940",
   "outputs": [],
   "execution_count": 5
  },
  {
   "metadata": {
    "ExecuteTime": {
     "end_time": "2025-10-16T13:04:04.487399Z",
     "start_time": "2025-10-16T13:04:04.485256Z"
    }
   },
   "cell_type": "code",
   "source": [
    "np.random.seed(42)\n",
    "W1 = np.random.rand(4,6) * 0.01\n",
    "b1 = np.random.rand(1,6) * 0.01\n",
    "W2 = np.random.rand(6,3) * 0.01\n",
    "b2 = np.random.rand(1,3) * 0.01\n"
   ],
   "id": "27381de84c958be6",
   "outputs": [],
   "execution_count": 6
  },
  {
   "metadata": {
    "ExecuteTime": {
     "end_time": "2025-10-16T13:04:04.537439Z",
     "start_time": "2025-10-16T13:04:04.535696Z"
    }
   },
   "cell_type": "code",
   "source": "learning_rate = 0.001",
   "id": "1d597ec8151fffcf",
   "outputs": [],
   "execution_count": 7
  },
  {
   "metadata": {
    "ExecuteTime": {
     "end_time": "2025-10-16T13:04:04.888230Z",
     "start_time": "2025-10-16T13:04:04.594124Z"
    }
   },
   "cell_type": "code",
   "source": [
    "g = []\n",
    "epochs = 100\n",
    "for l in range(epochs):\n",
    "    total_error = 0\n",
    "    for x in range(X_train.shape[0]):\n",
    "\n",
    "        h1_net = np.dot(X_train[x], W1) + b1\n",
    "        h1_out = np.zeros(h1_net.shape)\n",
    "        for i in range(h1_net.shape[1]):\n",
    "            h1_out[0,i] = relu(h1_net[0,i])\n",
    "        # print(f\"h1_net: {h1_net}\")\n",
    "        # print(f\"After passing h1_net through ReLU function:\")\n",
    "        # print(f\"h1_out: {h1_out}\")\n",
    "\n",
    "        o_net = np.dot(h1_out, W2) + b2\n",
    "        o_out = np.empty(o_net.shape)\n",
    "        for i in range(o_net.shape[0]):\n",
    "            o_out = softmax(o_net)\n",
    "        # print(f\"o_net: {o_net}\")\n",
    "        # print(f\"After passing o_net through softmax function:\")\n",
    "        # print(f\"o_out: {o_out}\")\n",
    "\n",
    "        Error = cross_entropy_loss(y_train[x], o_out)\n",
    "        # print(\"Error: {0}\".format(Error))\n",
    "        total_error += Error\n",
    "\n",
    "        dE_by_do_out = cross_entropy_derivative(y_train[x], o_out) #---> del(Error)/del(o_out)\n",
    "        # do_out_by_do_net = softmax_jacobian(o_out)                  #---> del(o_out)/del(o_net)\n",
    "        dZ2 = dE_by_do_out\n",
    "        do_net_by_dw2 = h1_out.T\n",
    "\n",
    "        dW2 = do_net_by_dw2 @ dZ2\n",
    "        db2 = dZ2\n",
    "\n",
    "        dA1 = dZ2 @ W2.T\n",
    "        dZ1 = dA1 * relu_derivative(h1_net)\n",
    "        dW1 = (X_train[x].T).reshape(4,1) @ dZ1\n",
    "        db1 = dZ1\n",
    "\n",
    "        W1 = W1 - (learning_rate * dW1)\n",
    "        b1 = b1 - (learning_rate * db1)\n",
    "        W2 = W2 - (learning_rate * dW2)\n",
    "        b2 = b2 - (learning_rate * db2)\n",
    "\n",
    "    print(f\"Epoch: {l+1}/{epochs} | Error: {total_error}\")\n",
    "    g.append(total_error)"
   ],
   "id": "bbd26cf61e235489",
   "outputs": [
    {
     "name": "stdout",
     "output_type": "stream",
     "text": [
      "Epoch: 1/100 | Error: 139.5692915499816\n",
      "Epoch: 2/100 | Error: 139.5669895976799\n",
      "Epoch: 3/100 | Error: 139.56475590520466\n",
      "Epoch: 4/100 | Error: 139.56256330462656\n",
      "Epoch: 5/100 | Error: 139.5603846355277\n",
      "Epoch: 6/100 | Error: 139.55819312104828\n",
      "Epoch: 7/100 | Error: 139.55596055206126\n",
      "Epoch: 8/100 | Error: 139.55365885997625\n",
      "Epoch: 9/100 | Error: 139.55125785396842\n",
      "Epoch: 10/100 | Error: 139.54873549396913\n",
      "Epoch: 11/100 | Error: 139.5460551454139\n",
      "Epoch: 12/100 | Error: 139.54316910908184\n",
      "Epoch: 13/100 | Error: 139.54003495831245\n",
      "Epoch: 14/100 | Error: 139.53661857368655\n",
      "Epoch: 15/100 | Error: 139.53287425763068\n",
      "Epoch: 16/100 | Error: 139.52874538232\n",
      "Epoch: 17/100 | Error: 139.52417582353735\n",
      "Epoch: 18/100 | Error: 139.519126856443\n",
      "Epoch: 19/100 | Error: 139.51353840520537\n",
      "Epoch: 20/100 | Error: 139.50733034888535\n",
      "Epoch: 21/100 | Error: 139.50039459625646\n",
      "Epoch: 22/100 | Error: 139.49264577104233\n",
      "Epoch: 23/100 | Error: 139.48398263759603\n",
      "Epoch: 24/100 | Error: 139.47430658883215\n",
      "Epoch: 25/100 | Error: 139.4634813591749\n",
      "Epoch: 26/100 | Error: 139.45136265059463\n",
      "Epoch: 27/100 | Error: 139.43782035899412\n",
      "Epoch: 28/100 | Error: 139.4226773642957\n",
      "Epoch: 29/100 | Error: 139.4057118710796\n",
      "Epoch: 30/100 | Error: 139.38668478164553\n",
      "Epoch: 31/100 | Error: 139.36534440965576\n",
      "Epoch: 32/100 | Error: 139.3414239943967\n",
      "Epoch: 33/100 | Error: 139.3146332628727\n",
      "Epoch: 34/100 | Error: 139.28460375050898\n",
      "Epoch: 35/100 | Error: 139.2509095791879\n",
      "Epoch: 36/100 | Error: 139.21311238706213\n",
      "Epoch: 37/100 | Error: 139.17069658939715\n",
      "Epoch: 38/100 | Error: 139.1231192542931\n",
      "Epoch: 39/100 | Error: 139.0697893321433\n",
      "Epoch: 40/100 | Error: 139.0100004510453\n",
      "Epoch: 41/100 | Error: 138.942993515524\n",
      "Epoch: 42/100 | Error: 138.86794369496533\n",
      "Epoch: 43/100 | Error: 138.7838952751634\n",
      "Epoch: 44/100 | Error: 138.68981516472567\n",
      "Epoch: 45/100 | Error: 138.5845524139382\n",
      "Epoch: 46/100 | Error: 138.4668505275687\n",
      "Epoch: 47/100 | Error: 138.3353310181362\n",
      "Epoch: 48/100 | Error: 138.18849126950974\n",
      "Epoch: 49/100 | Error: 138.0246792509518\n",
      "Epoch: 50/100 | Error: 137.84209712141055\n",
      "Epoch: 51/100 | Error: 137.63881324459072\n",
      "Epoch: 52/100 | Error: 137.41275773070325\n",
      "Epoch: 53/100 | Error: 137.16174022807158\n",
      "Epoch: 54/100 | Error: 136.88342241172822\n",
      "Epoch: 55/100 | Error: 136.5753349747248\n",
      "Epoch: 56/100 | Error: 136.23493372496833\n",
      "Epoch: 57/100 | Error: 135.8595987867998\n",
      "Epoch: 58/100 | Error: 135.44668588735627\n",
      "Epoch: 59/100 | Error: 134.99357943639217\n",
      "Epoch: 60/100 | Error: 134.4977485849518\n",
      "Epoch: 61/100 | Error: 133.95681927330727\n",
      "Epoch: 62/100 | Error: 133.36865727298064\n",
      "Epoch: 63/100 | Error: 132.7314608098633\n",
      "Epoch: 64/100 | Error: 132.04386015094644\n",
      "Epoch: 65/100 | Error: 131.30502013539018\n",
      "Epoch: 66/100 | Error: 130.5147401335744\n",
      "Epoch: 67/100 | Error: 129.67355451694084\n",
      "Epoch: 68/100 | Error: 128.7827863836081\n",
      "Epoch: 69/100 | Error: 127.84459313062978\n",
      "Epoch: 70/100 | Error: 126.86199823397104\n",
      "Epoch: 71/100 | Error: 125.83885363898449\n",
      "Epoch: 72/100 | Error: 124.779766420458\n",
      "Epoch: 73/100 | Error: 123.68998060828261\n",
      "Epoch: 74/100 | Error: 122.57521880713328\n",
      "Epoch: 75/100 | Error: 121.44149295182658\n",
      "Epoch: 76/100 | Error: 120.29489753981706\n",
      "Epoch: 77/100 | Error: 119.1414011828527\n",
      "Epoch: 78/100 | Error: 117.98665275907955\n",
      "Epoch: 79/100 | Error: 116.83581665837953\n",
      "Epoch: 80/100 | Error: 115.69344789632706\n",
      "Epoch: 81/100 | Error: 114.56341292390833\n",
      "Epoch: 82/100 | Error: 113.44885669436714\n",
      "Epoch: 83/100 | Error: 112.35221185695973\n",
      "Epoch: 84/100 | Error: 111.27524249246073\n",
      "Epoch: 85/100 | Error: 110.21911290418298\n",
      "Epoch: 86/100 | Error: 109.1844715993933\n",
      "Epoch: 87/100 | Error: 108.17154144455561\n",
      "Epoch: 88/100 | Error: 107.18020862437191\n",
      "Epoch: 89/100 | Error: 106.2101050384572\n",
      "Epoch: 90/100 | Error: 105.26068076618465\n",
      "Epoch: 91/100 | Error: 104.33126497295\n",
      "Epoch: 92/100 | Error: 103.42111499296739\n",
      "Epoch: 93/100 | Error: 102.5294542754647\n",
      "Epoch: 94/100 | Error: 101.65550045905086\n",
      "Epoch: 95/100 | Error: 100.79848511386577\n",
      "Epoch: 96/100 | Error: 99.95766674410096\n",
      "Epoch: 97/100 | Error: 99.13233855061578\n",
      "Epoch: 98/100 | Error: 98.32183227744353\n",
      "Epoch: 99/100 | Error: 97.52551925394796\n",
      "Epoch: 100/100 | Error: 96.74280952830298\n"
     ]
    }
   ],
   "execution_count": 8
  },
  {
   "metadata": {
    "ExecuteTime": {
     "end_time": "2025-10-16T13:04:04.988610Z",
     "start_time": "2025-10-16T13:04:04.893903Z"
    }
   },
   "cell_type": "code",
   "source": [
    "import matplotlib.pyplot as plt\n",
    "plt.figure(figsize = (10,10))\n",
    "plt.scatter([i for i in range(epochs)], g)\n"
   ],
   "id": "ff036d47b48c9dff",
   "outputs": [
    {
     "data": {
      "text/plain": [
       "<matplotlib.collections.PathCollection at 0x7e2c76d859d0>"
      ]
     },
     "execution_count": 9,
     "metadata": {},
     "output_type": "execute_result"
    },
    {
     "data": {
      "text/plain": [
       "<Figure size 1000x1000 with 1 Axes>"
      ],
      "image/png": "[encoded data removed]"
     },
     "metadata": {},
     "output_type": "display_data",
     "jetTransient": {
      "display_id": null
     }
    }
   ],
   "execution_count": 9
  },
  {
   "metadata": {
    "ExecuteTime": {
     "end_time": "2025-10-16T13:04:04.994814Z",
     "start_time": "2025-10-16T13:04:04.993013Z"
    }
   },
   "cell_type": "code",
   "source": [
    "# for f in range(X_test.shape[0]):\n",
    "#     X_sample = X_test[f]\n",
    "#     y_sample = y_test[f]\n",
    "#\n",
    "#     H1_net = np.dot(X_sample, W1) + b1\n",
    "#     H1_out = relu(H1_net)\n",
    "#     O_net = np.dot(H1_net, W2) + b2\n",
    "#     O_out = softmax(O_net)\n",
    "#\n",
    "#     output = []\n",
    "#\n",
    "#     if np.argmax(O) == 0:\n",
    "#         output = [1,0,0]\n",
    "#     elif np.argmax(O) == 1:\n",
    "#         output = [0,1,0]\n",
    "#     elif np.argmax(O) == 2:\n",
    "#         output = [0,0,1]\n",
    "#\n",
    "#     print(y_sample , output)"
   ],
   "id": "d8ef090a8250f207",
   "outputs": [],
   "execution_count": 10
  },
  {
   "metadata": {
    "ExecuteTime": {
     "end_time": "2025-10-16T13:04:05.045045Z",
     "start_time": "2025-10-16T13:04:05.040909Z"
    }
   },
   "cell_type": "code",
   "source": [
    "\n",
    "correct = 0\n",
    "\n",
    "for f in range(X_test.shape[0]):\n",
    "\n",
    "    X_sample = X_test[f]\n",
    "    y_sample = y_test[f]\n",
    "\n",
    "    H1_net = np.dot(X_sample, W1) + b1\n",
    "    H1_out = np.zeros(H1_net.shape)\n",
    "    for i in range(H1_net.shape[1]):\n",
    "        H1_out[0,i] = relu(H1_net[0,i])\n",
    "\n",
    "    O_net = np.dot(H1_out, W2) + b2\n",
    "    O_out = np.empty(O_net.shape)\n",
    "    for i in range(O_net.shape[0]):\n",
    "        O_out = softmax(O_net)\n",
    "\n",
    "    output = np.zeros(3)\n",
    "    output[np.argmax(O_out)] = 1\n",
    "\n",
    "    # print(y_sample, output)\n",
    "\n",
    "    pred_class = np.argmax(output)\n",
    "    true_class = np.argmax(y_sample)\n",
    "    if pred_class == true_class:\n",
    "        correct += 1\n",
    "\n",
    "accuracy = (correct / X_test.shape[0]) * 100\n",
    "print(f\"Accuracy: {accuracy}%\")\n",
    "# print(correct)"
   ],
   "id": "6322d198c9fb9007",
   "outputs": [
    {
     "name": "stdout",
     "output_type": "stream",
     "text": [
      "Accuracy: 86.95652173913044%\n"
     ]
    }
   ],
   "execution_count": 11
  },
  {
   "metadata": {
    "ExecuteTime": {
     "end_time": "2025-10-16T13:04:21.381656Z",
     "start_time": "2025-10-16T13:04:21.379164Z"
    }
   },
   "cell_type": "code",
   "source": "",
   "id": "9d38d1a3e5d3a901",
   "outputs": [
    {
     "data": {
      "text/plain": [
       "20"
      ]
     },
     "execution_count": 13,
     "metadata": {},
     "output_type": "execute_result"
    }
   ],
   "execution_count": 13
  }
 ],
 "metadata": {
  "kernelspec": {
   "display_name": "Python 3",
   "language": "python",
   "name": "python3"
  },
  "language_info": {
   "codemirror_mode": {
    "name": "ipython",
    "version": 2
   },
   "file_extension": ".py",
   "mimetype": "text/x-python",
   "name": "python",
   "nbconvert_exporter": "python",
   "pygments_lexer": "ipython2",
   "version": "2.7.6"
  }
 },
 "nbformat": 4,
 "nbformat_minor": 5
}
