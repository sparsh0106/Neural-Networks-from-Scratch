{
 "cells": [
  {
   "metadata": {},
   "cell_type": "markdown",
   "source": "### Implementation of an Artificial Neural Network",
   "id": "80e238adcd0222cb"
  },
  {
   "cell_type": "code",
   "id": "initial_id",
   "metadata": {
    "collapsed": true,
    "ExecuteTime": {
     "end_time": "2025-10-03T04:24:11.261457Z",
     "start_time": "2025-10-03T04:24:11.059580Z"
    }
   },
   "source": [
    "import pandas as pd\n",
    "import numpy as np"
   ],
   "outputs": [],
   "execution_count": 1
  },
  {
   "metadata": {
    "ExecuteTime": {
     "end_time": "2025-10-03T04:24:11.274541Z",
     "start_time": "2025-10-03T04:24:11.264891Z"
    }
   },
   "cell_type": "code",
   "source": [
    "df = pd.read_csv('Iris.csv')\n",
    "df = df.drop(columns=['Id'])\n",
    "\n",
    "y = df['Species']\n",
    "y = pd.DataFrame(y)\n",
    "X = df.drop(columns=['Species'])"
   ],
   "id": "1976a24245309836",
   "outputs": [],
   "execution_count": 2
  },
  {
   "metadata": {
    "ExecuteTime": {
     "end_time": "2025-10-03T04:24:11.659419Z",
     "start_time": "2025-10-03T04:24:11.311235Z"
    }
   },
   "cell_type": "code",
   "source": [
    "from sklearn.preprocessing import StandardScaler, OneHotEncoder\n",
    "scaler = StandardScaler()\n",
    "encoder = OneHotEncoder(sparse_output=False)\n",
    "X_new = scaler.fit_transform(X)\n",
    "y_new = encoder.fit_transform(y)"
   ],
   "id": "f90689e66356cf80",
   "outputs": [],
   "execution_count": 3
  },
  {
   "metadata": {
    "ExecuteTime": {
     "end_time": "2025-10-03T04:24:11.683786Z",
     "start_time": "2025-10-03T04:24:11.665252Z"
    }
   },
   "cell_type": "code",
   "source": [
    "from sklearn.model_selection import train_test_split\n",
    "X_train, X_test, y_train, y_test = train_test_split(X_new, y_new, test_size=0.1)\n",
    "\n",
    "print(X_train.shape, y_train.shape)\n",
    "print(X_test.shape, y_test.shape)"
   ],
   "id": "eb4a37523fc1cb1e",
   "outputs": [
    {
     "name": "stdout",
     "output_type": "stream",
     "text": [
      "(135, 4) (135, 3)\n",
      "(15, 4) (15, 3)\n"
     ]
    }
   ],
   "execution_count": 4
  },
  {
   "metadata": {
    "ExecuteTime": {
     "end_time": "2025-10-03T04:24:11.718766Z",
     "start_time": "2025-10-03T04:24:11.713348Z"
    }
   },
   "cell_type": "code",
   "source": [
    "def sigmoid(z):\n",
    "    return 1 / (1 + np.exp(-z))\n",
    "\n",
    "def sigmoid_derivative(z):\n",
    "    return sigmoid(z) * (1 - sigmoid(z))\n",
    "\n",
    "def mse(y_true, y_pred):\n",
    "    return np.sum((y_true - y_pred)**2)/2\n",
    "\n",
    "def relu(z):\n",
    "    return max(0, z)\n",
    "\n",
    "def softmax(z):\n",
    "    return np.exp(z) / np.sum(np.exp(z))\n",
    "\n",
    "def relu_derivative(z):\n",
    "    return (z > 0).astype(int)\n",
    "\n",
    "def mse_derivative(y_true, y_pred):\n",
    "    return -(y_true - y_pred)\n",
    "\n",
    "def cross_entropy_loss(y_true, y_pred):\n",
    "    return -np.sum(y_true * np.log(y_pred + 1e-9))\n",
    "\n",
    "# derivative for backprop\n",
    "def cross_entropy_derivative(y_true, y_pred):\n",
    "    return (y_pred - y_true)\n",
    "\n",
    "def softmax_jacobian(s):\n",
    "    s = s.reshape(-1, 1)\n",
    "    J = np.diagflat(s) - np.dot(s, s.T)\n",
    "    return J\n"
   ],
   "id": "18925bdef2a0d940",
   "outputs": [],
   "execution_count": 5
  },
  {
   "metadata": {
    "ExecuteTime": {
     "end_time": "2025-10-03T04:24:11.770074Z",
     "start_time": "2025-10-03T04:24:11.765593Z"
    }
   },
   "cell_type": "code",
   "source": [
    "np.random.seed(42)\n",
    "W1 = np.random.rand(4,6) * 0.01\n",
    "b1 = np.random.rand(1,6) * 0.01\n",
    "W2 = np.random.rand(6,3) * 0.01\n",
    "b2 = np.random.rand(1,3) * 0.01\n"
   ],
   "id": "27381de84c958be6",
   "outputs": [],
   "execution_count": 6
  },
  {
   "metadata": {
    "ExecuteTime": {
     "end_time": "2025-10-03T04:24:12.262516Z",
     "start_time": "2025-10-03T04:24:12.259775Z"
    }
   },
   "cell_type": "code",
   "source": "learning_rate = 0.001",
   "id": "1d597ec8151fffcf",
   "outputs": [],
   "execution_count": 13
  },
  {
   "metadata": {
    "ExecuteTime": {
     "end_time": "2025-10-03T04:24:12.621876Z",
     "start_time": "2025-10-03T04:24:12.308095Z"
    }
   },
   "cell_type": "code",
   "source": [
    "g = []\n",
    "epochs = 100\n",
    "for l in range(epochs):\n",
    "    total_error = 0\n",
    "    for x in range(X_train.shape[0]):\n",
    "\n",
    "        h1_net = np.dot(X_train[x], W1) + b1\n",
    "        h1_out = np.zeros(h1_net.shape)\n",
    "        for i in range(h1_net.shape[1]):\n",
    "            h1_out[0,i] = relu(h1_net[0,i])\n",
    "        # print(f\"h1_net: {h1_net}\")\n",
    "        # print(f\"After passing h1_net through ReLU function:\")\n",
    "        # print(f\"h1_out: {h1_out}\")\n",
    "\n",
    "        o_net = np.dot(h1_out, W2) + b2\n",
    "        o_out = np.empty(o_net.shape)\n",
    "        for i in range(o_net.shape[0]):\n",
    "            o_out = softmax(o_net)\n",
    "        # print(f\"o_net: {o_net}\")\n",
    "        # print(f\"After passing o_net through softmax function:\")\n",
    "        # print(f\"o_out: {o_out}\")\n",
    "\n",
    "        Error = cross_entropy_loss(y_train[x], o_out)\n",
    "        # print(\"Error: {0}\".format(Error))\n",
    "        total_error += Error\n",
    "\n",
    "        dE_by_do_out = cross_entropy_derivative(y_train[x], o_out) #---> del(Error)/del(o_out)\n",
    "        # do_out_by_do_net = softmax_jacobian(o_out)                  #---> del(o_out)/del(o_net)\n",
    "        dZ2 = dE_by_do_out\n",
    "        do_net_by_dw2 = h1_out.T\n",
    "\n",
    "        dW2 = do_net_by_dw2 @ dZ2\n",
    "        db2 = dZ2\n",
    "\n",
    "        dA1 = dZ2 @ W2.T\n",
    "        dZ1 = dA1 * relu_derivative(h1_net)\n",
    "        dW1 = (X_train[x].T).reshape(4,1) @ dZ1\n",
    "        db1 = dZ1\n",
    "\n",
    "        W1 = W1 - (learning_rate * dW1)\n",
    "        b1 = b1 - (learning_rate * db1)\n",
    "        W2 = W2 - (learning_rate * dW2)\n",
    "        b2 = b2 - (learning_rate * db2)\n",
    "\n",
    "    print(f\"Epoch: {l+1}/{epochs} | Error: {total_error}\")\n",
    "    g.append(total_error)"
   ],
   "id": "bbd26cf61e235489",
   "outputs": [
    {
     "name": "stdout",
     "output_type": "stream",
     "text": [
      "Epoch: 1/100 | Error: 148.36589357320753\n",
      "Epoch: 2/100 | Error: 148.35797829530412\n",
      "Epoch: 3/100 | Error: 148.35059341915218\n",
      "Epoch: 4/100 | Error: 148.34366726552304\n",
      "Epoch: 5/100 | Error: 148.33713126992103\n",
      "Epoch: 6/100 | Error: 148.3309193589538\n",
      "Epoch: 7/100 | Error: 148.3249677557598\n",
      "Epoch: 8/100 | Error: 148.31921437596498\n",
      "Epoch: 9/100 | Error: 148.31359756651884\n",
      "Epoch: 10/100 | Error: 148.3080643807354\n",
      "Epoch: 11/100 | Error: 148.30254126908326\n",
      "Epoch: 12/100 | Error: 148.2969565082583\n",
      "Epoch: 13/100 | Error: 148.29124431676263\n",
      "Epoch: 14/100 | Error: 148.28534103941237\n",
      "Epoch: 15/100 | Error: 148.27916720181915\n",
      "Epoch: 16/100 | Error: 148.27264274259386\n",
      "Epoch: 17/100 | Error: 148.26569763994553\n",
      "Epoch: 18/100 | Error: 148.2582603473404\n",
      "Epoch: 19/100 | Error: 148.25021467031817\n",
      "Epoch: 20/100 | Error: 148.24141813541652\n",
      "Epoch: 21/100 | Error: 148.23174161372194\n",
      "Epoch: 22/100 | Error: 148.2210733757189\n",
      "Epoch: 23/100 | Error: 148.2092686086014\n",
      "Epoch: 24/100 | Error: 148.1961458623967\n",
      "Epoch: 25/100 | Error: 148.18148281874505\n",
      "Epoch: 26/100 | Error: 148.1651158895122\n",
      "Epoch: 27/100 | Error: 148.1468306279881\n",
      "Epoch: 28/100 | Error: 148.12632302788336\n",
      "Epoch: 29/100 | Error: 148.10328798222864\n",
      "Epoch: 30/100 | Error: 148.07735160094512\n",
      "Epoch: 31/100 | Error: 148.04811512161479\n",
      "Epoch: 32/100 | Error: 148.0152103175794\n",
      "Epoch: 33/100 | Error: 147.9781073264177\n",
      "Epoch: 34/100 | Error: 147.9362520014814\n",
      "Epoch: 35/100 | Error: 147.88898870584603\n",
      "Epoch: 36/100 | Error: 147.83565708049773\n",
      "Epoch: 37/100 | Error: 147.7754891269464\n",
      "Epoch: 38/100 | Error: 147.7075858064724\n",
      "Epoch: 39/100 | Error: 147.63095464158212\n",
      "Epoch: 40/100 | Error: 147.5444856868599\n",
      "Epoch: 41/100 | Error: 147.44696409975893\n",
      "Epoch: 42/100 | Error: 147.3370247076097\n",
      "Epoch: 43/100 | Error: 147.21314931616453\n",
      "Epoch: 44/100 | Error: 147.07365127607275\n",
      "Epoch: 45/100 | Error: 146.91666943696083\n",
      "Epoch: 46/100 | Error: 146.7401983445084\n",
      "Epoch: 47/100 | Error: 146.5419763288701\n",
      "Epoch: 48/100 | Error: 146.319562693263\n",
      "Epoch: 49/100 | Error: 146.0703224189693\n",
      "Epoch: 50/100 | Error: 145.79145264314093\n",
      "Epoch: 51/100 | Error: 145.47994133909026\n",
      "Epoch: 52/100 | Error: 145.13259547226252\n",
      "Epoch: 53/100 | Error: 144.74608926384974\n",
      "Epoch: 54/100 | Error: 144.3169897876251\n",
      "Epoch: 55/100 | Error: 143.8418369749664\n",
      "Epoch: 56/100 | Error: 143.31720606251065\n",
      "Epoch: 57/100 | Error: 142.7398001456529\n",
      "Epoch: 58/100 | Error: 142.1065614778236\n",
      "Epoch: 59/100 | Error: 141.41480062477086\n",
      "Epoch: 60/100 | Error: 140.66235614350813\n",
      "Epoch: 61/100 | Error: 139.8477196453847\n",
      "Epoch: 62/100 | Error: 138.97019150828157\n",
      "Epoch: 63/100 | Error: 138.0300605948377\n",
      "Epoch: 64/100 | Error: 137.0287168730927\n",
      "Epoch: 65/100 | Error: 135.9687083614359\n",
      "Epoch: 66/100 | Error: 134.85381744787094\n",
      "Epoch: 67/100 | Error: 133.68901714921478\n",
      "Epoch: 68/100 | Error: 132.4803681395444\n",
      "Epoch: 69/100 | Error: 131.23484078143085\n",
      "Epoch: 70/100 | Error: 129.9600697331193\n",
      "Epoch: 71/100 | Error: 128.66405790294485\n",
      "Epoch: 72/100 | Error: 127.35485424400548\n",
      "Epoch: 73/100 | Error: 126.04023434467335\n",
      "Epoch: 74/100 | Error: 124.72741277587043\n",
      "Epoch: 75/100 | Error: 123.42281152706315\n",
      "Epoch: 76/100 | Error: 122.13190056234093\n",
      "Epoch: 77/100 | Error: 120.8591163828173\n",
      "Epoch: 78/100 | Error: 119.6078546171707\n",
      "Epoch: 79/100 | Error: 118.38052487945322\n",
      "Epoch: 80/100 | Error: 117.17865147183528\n",
      "Epoch: 81/100 | Error: 116.00300212523321\n",
      "Epoch: 82/100 | Error: 114.85372830269466\n",
      "Epoch: 83/100 | Error: 113.73050369136524\n",
      "Epoch: 84/100 | Error: 112.63265137841017\n",
      "Epoch: 85/100 | Error: 111.55925402809481\n",
      "Epoch: 86/100 | Error: 110.50924462466273\n",
      "Epoch: 87/100 | Error: 109.48147777812378\n",
      "Epoch: 88/100 | Error: 108.47478318657566\n",
      "Epoch: 89/100 | Error: 107.48800372234534\n",
      "Epoch: 90/100 | Error: 106.52002093172464\n",
      "Epoch: 91/100 | Error: 105.56977068644315\n",
      "Epoch: 92/100 | Error: 104.63625145184444\n",
      "Epoch: 93/100 | Error: 103.71852725818869\n",
      "Epoch: 94/100 | Error: 102.81572705725335\n",
      "Epoch: 95/100 | Error: 101.92704176512852\n",
      "Epoch: 96/100 | Error: 101.05171995925119\n",
      "Epoch: 97/100 | Error: 100.18906292281217\n",
      "Epoch: 98/100 | Error: 99.33841951237373\n",
      "Epoch: 99/100 | Error: 98.49918115912978\n",
      "Epoch: 100/100 | Error: 97.67077719266665\n"
     ]
    }
   ],
   "execution_count": 14
  },
  {
   "metadata": {
    "ExecuteTime": {
     "end_time": "2025-10-03T04:24:12.962685Z",
     "start_time": "2025-10-03T04:24:12.626611Z"
    }
   },
   "cell_type": "code",
   "source": [
    "import matplotlib.pyplot as plt\n",
    "plt.figure(figsize = (10,10))\n",
    "plt.scatter([i for i in range(epochs)], g)\n"
   ],
   "id": "ff036d47b48c9dff",
   "outputs": [
    {
     "data": {
      "text/plain": [
       "<matplotlib.collections.PathCollection at 0x78f7305ebed0>"
      ]
     },
     "execution_count": 15,
     "metadata": {},
     "output_type": "execute_result"
    },
    {
     "data": {
      "text/plain": [
       "<Figure size 1000x1000 with 1 Axes>"
      ],
      "image/png": "[encoded data removed]"
     },
     "metadata": {},
     "output_type": "display_data",
     "jetTransient": {
      "display_id": null
     }
    }
   ],
   "execution_count": 15
  },
  {
   "metadata": {
    "ExecuteTime": {
     "end_time": "2025-10-03T04:24:12.968677Z",
     "start_time": "2025-10-03T04:24:12.966772Z"
    }
   },
   "cell_type": "code",
   "source": [
    "# for f in range(X_test.shape[0]):\n",
    "#     X_sample = X_test[f]\n",
    "#     y_sample = y_test[f]\n",
    "#\n",
    "#     H1_net = np.dot(X_sample, W1) + b1\n",
    "#     H1_out = relu(H1_net)\n",
    "#     O_net = np.dot(H1_net, W2) + b2\n",
    "#     O_out = softmax(O_net)\n",
    "#\n",
    "#     output = []\n",
    "#\n",
    "#     if np.argmax(O) == 0:\n",
    "#         output = [1,0,0]\n",
    "#     elif np.argmax(O) == 1:\n",
    "#         output = [0,1,0]\n",
    "#     elif np.argmax(O) == 2:\n",
    "#         output = [0,0,1]\n",
    "#\n",
    "#     print(y_sample , output)"
   ],
   "id": "d8ef090a8250f207",
   "outputs": [],
   "execution_count": 16
  },
  {
   "metadata": {
    "ExecuteTime": {
     "end_time": "2025-10-03T04:24:13.019129Z",
     "start_time": "2025-10-03T04:24:13.014811Z"
    }
   },
   "cell_type": "code",
   "source": [
    "\n",
    "correct = 0\n",
    "\n",
    "for f in range(X_test.shape[0]):\n",
    "\n",
    "    X_sample = X_test[f]\n",
    "    y_sample = y_test[f]\n",
    "\n",
    "    H1_net = np.dot(X_sample, W1) + b1\n",
    "    H1_out = np.zeros(H1_net.shape)\n",
    "    for i in range(H1_net.shape[1]):\n",
    "        H1_out[0,i] = relu(H1_net[0,i])\n",
    "\n",
    "    O_net = np.dot(H1_out, W2) + b2\n",
    "    O_out = np.empty(O_net.shape)\n",
    "    for i in range(O_net.shape[0]):\n",
    "        O_out = softmax(O_net)\n",
    "\n",
    "    output = np.zeros(3)\n",
    "    output[np.argmax(O_out)] = 1\n",
    "\n",
    "    # print(y_sample, output)\n",
    "\n",
    "    pred_class = np.argmax(output)\n",
    "    true_class = np.argmax(y_sample)\n",
    "    if pred_class == true_class:\n",
    "        correct += 1\n",
    "\n",
    "accuracy = (correct / X_test.shape[0]) * 100\n",
    "print(f\"Accuracy: {accuracy}%\")\n",
    "# print(correct)"
   ],
   "id": "6322d198c9fb9007",
   "outputs": [
    {
     "name": "stdout",
     "output_type": "stream",
     "text": [
      "Accuracy: 73.33333333333333%\n"
     ]
    }
   ],
   "execution_count": 17
  },
  {
   "metadata": {
    "ExecuteTime": {
     "end_time": "2025-10-03T05:21:26.016868Z",
     "start_time": "2025-10-03T05:21:26.013496Z"
    }
   },
   "cell_type": "code",
   "source": "'hi'",
   "id": "9d38d1a3e5d3a901",
   "outputs": [
    {
     "data": {
      "text/plain": [
       "'hi'"
      ]
     },
     "execution_count": 1,
     "metadata": {},
     "output_type": "execute_result"
    }
   ],
   "execution_count": 1
  }
 ],
 "metadata": {
  "kernelspec": {
   "display_name": "Python 3",
   "language": "python",
   "name": "python3"
  },
  "language_info": {
   "codemirror_mode": {
    "name": "ipython",
    "version": 2
   },
   "file_extension": ".py",
   "mimetype": "text/x-python",
   "name": "python",
   "nbconvert_exporter": "python",
   "pygments_lexer": "ipython2",
   "version": "2.7.6"
  }
 },
 "nbformat": 4,
 "nbformat_minor": 5
}
