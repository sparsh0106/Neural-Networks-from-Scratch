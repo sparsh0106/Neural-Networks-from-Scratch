{
 "cells": [
  {
   "metadata": {},
   "cell_type": "markdown",
   "source": "#### Performing Convolution using Scipy",
   "id": "e25c4b95706749e4"
  },
  {
   "metadata": {
    "ExecuteTime": {
     "end_time": "2025-10-16T13:54:42.078467Z",
     "start_time": "2025-10-16T13:54:42.075097Z"
    }
   },
   "cell_type": "code",
   "source": [
    "from scipy.signal import convolve2d\n",
    "import numpy as np\n",
    "A = np.array([[1,0,0,0],[0,1,0,0],[0,0,1,0],[0,0,0,1]])\n",
    "B = np.array([[0,0,1],[0,1,0],[1,0,0]])\n",
    "\n",
    "x = convolve2d(A, B, mode='valid')\n",
    "x"
   ],
   "id": "3b4d3fc23bfe947b",
   "outputs": [
    {
     "data": {
      "text/plain": [
       "array([[1, 0],\n",
       "       [0, 1]])"
      ]
     },
     "execution_count": 31,
     "metadata": {},
     "output_type": "execute_result"
    }
   ],
   "execution_count": 31
  }
 ],
 "metadata": {
  "kernelspec": {
   "display_name": "Python 3",
   "language": "python",
   "name": "python3"
  },
  "language_info": {
   "codemirror_mode": {
    "name": "ipython",
    "version": 2
   },
   "file_extension": ".py",
   "mimetype": "text/x-python",
   "name": "python",
   "nbconvert_exporter": "python",
   "pygments_lexer": "ipython2",
   "version": "2.7.6"
  }
 },
 "nbformat": 4,
 "nbformat_minor": 5
}
