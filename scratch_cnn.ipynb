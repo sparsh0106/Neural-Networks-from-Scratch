{
 "cells": [
  {
   "metadata": {},
   "cell_type": "markdown",
   "source": "#### Performing Convolution using Scipy",
   "id": "e25c4b95706749e4"
  },
  {
   "metadata": {
    "ExecuteTime": {
     "end_time": "2025-10-16T14:46:58.469640Z",
     "start_time": "2025-10-16T14:46:58.459592Z"
    }
   },
   "cell_type": "code",
   "source": [
    "from scipy.signal import convolve2d\n",
    "import numpy as np"
   ],
   "id": "9f006568eb6d621f",
   "outputs": [],
   "execution_count": 1
  },
  {
   "metadata": {
    "ExecuteTime": {
     "end_time": "2025-10-16T14:47:56.087296Z",
     "start_time": "2025-10-16T14:47:56.084033Z"
    }
   },
   "cell_type": "code",
   "source": [
    "\n",
    "A = np.array([[1,0,0,0],[0,1,0,0],[0,0,1,0],[0,0,0,1]])\n",
    "B = np.array([[0,1],[1,0]])\n",
    "\n",
    "x = convolve2d(A, B, mode='valid')\n",
    "x\n"
   ],
   "id": "3b4d3fc23bfe947b",
   "outputs": [
    {
     "data": {
      "text/plain": [
       "array([[0, 1, 0],\n",
       "       [1, 0, 1],\n",
       "       [0, 1, 0]])"
      ]
     },
     "execution_count": 6,
     "metadata": {},
     "output_type": "execute_result"
    }
   ],
   "execution_count": 6
  },
  {
   "metadata": {},
   "cell_type": "markdown",
   "source": "#### Convolution without overlapping",
   "id": "2af9f730b2003c15"
  },
  {
   "metadata": {
    "ExecuteTime": {
     "end_time": "2025-10-16T14:48:15.647541Z",
     "start_time": "2025-10-16T14:48:15.643864Z"
    }
   },
   "cell_type": "code",
   "source": [
    "output = np.zeros((2,2))\n",
    "\n",
    "for i in range(0, 4,2):\n",
    "    for j in range(0, 4,2):\n",
    "        region = A[i:i+2, j:j+2]\n",
    "        output[i//2, j//2] = np.sum(region * B)\n",
    "\n",
    "output"
   ],
   "id": "9e8e133bef4ed573",
   "outputs": [
    {
     "data": {
      "text/plain": [
       "array([[0., 0.],\n",
       "       [0., 0.]])"
      ]
     },
     "execution_count": 7,
     "metadata": {},
     "output_type": "execute_result"
    }
   ],
   "execution_count": 7
  },
  {
   "metadata": {
    "ExecuteTime": {
     "end_time": "2025-10-16T14:49:12.248823Z",
     "start_time": "2025-10-16T14:49:12.244044Z"
    }
   },
   "cell_type": "code",
   "source": [
    "def conv_without_overlap(x, y, stride):\n",
    "    kernel_size = y.shape[0]\n",
    "    out_rows = x.shape[0]//stride\n",
    "    out_cols = x.shape[1]//stride\n",
    "    o = np.zeros((out_rows, out_cols))\n",
    "\n",
    "    for a in range(0, x.shape[0] - kernel_size + 1, stride):\n",
    "        for b in range(0, x.shape[1] - kernel_size + 1, stride):\n",
    "            r = x[a:a+kernel_size, b:b+kernel_size]\n",
    "            o[a//stride, b//stride] = np.sum(r * y)\n",
    "    return o"
   ],
   "id": "721c70159d815c4b",
   "outputs": [],
   "execution_count": 10
  },
  {
   "metadata": {
    "ExecuteTime": {
     "end_time": "2025-10-16T14:48:30.199388Z",
     "start_time": "2025-10-16T14:48:30.195833Z"
    }
   },
   "cell_type": "code",
   "source": [
    "A = np.array([[1,0,0,0,0,0],\n",
    "              [0,1,0,0,0,0],\n",
    "              [0,0,1,0,0,0],\n",
    "              [0,0,0,1,0,0],\n",
    "              [0,0,0,0,1,0],\n",
    "              [0,0,0,0,0,1]])\n",
    "B = np.array([[0,0,1],\n",
    "              [0,1,0],\n",
    "              [1,0,0]])\n",
    "\n",
    "print(conv_without_overlap(A, B, 3))"
   ],
   "id": "fb46a564918a249e",
   "outputs": [
    {
     "name": "stdout",
     "output_type": "stream",
     "text": [
      "[[1. 0.]\n",
      " [0. 1.]]\n"
     ]
    }
   ],
   "execution_count": 9
  },
  {
   "metadata": {},
   "cell_type": "code",
   "outputs": [],
   "execution_count": null,
   "source": "",
   "id": "5a9cf1ec22350181"
  }
 ],
 "metadata": {
  "kernelspec": {
   "display_name": "Python 3",
   "language": "python",
   "name": "python3"
  },
  "language_info": {
   "codemirror_mode": {
    "name": "ipython",
    "version": 2
   },
   "file_extension": ".py",
   "mimetype": "text/x-python",
   "name": "python",
   "nbconvert_exporter": "python",
   "pygments_lexer": "ipython2",
   "version": "2.7.6"
  }
 },
 "nbformat": 4,
 "nbformat_minor": 5
}
